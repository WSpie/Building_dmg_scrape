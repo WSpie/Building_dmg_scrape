{
 "cells": [
  {
   "cell_type": "code",
   "execution_count": 76,
   "metadata": {},
   "outputs": [],
   "source": [
    "import warnings\n",
    "warnings.filterwarnings('ignore')\n",
    "import json\n",
    "import requests\n",
    "import os\n",
    "import pandas as pd\n",
    "from tqdm import trange"
   ]
  },
  {
   "attachments": {},
   "cell_type": "markdown",
   "metadata": {},
   "source": [
    "# Load published map and download datasets"
   ]
  },
  {
   "cell_type": "code",
   "execution_count": 2,
   "metadata": {},
   "outputs": [],
   "source": [
    "with open('published_map.json', 'r') as js_f:\n",
    "    published_map = js_f.read()\n",
    "\n",
    "published_map = json.loads(published_map)"
   ]
  },
  {
   "cell_type": "code",
   "execution_count": 10,
   "metadata": {},
   "outputs": [
    {
     "data": {
      "text/plain": [
       "[{'id': '33f5fd80-ec17-4d8d-b99e-94fbb9e896ea',\n",
       "  'url': 'https://cdn.published.unfolded.ai/maps/300f66f4-fc9a-4680-8b5a-ba8905629427/published/f17abf10-91e9-45f0-8adc-abea8c43c182/dataset-33f5fd80-ec17-4d8d-b99e-94fbb9e896ea.json',\n",
       "  'name': 'Needs _demolished.geojson',\n",
       "  'type': 'managed'},\n",
       " {'id': '4f92a025-9e69-4215-9298-349419156687',\n",
       "  'url': 'https://cdn.published.unfolded.ai/maps/300f66f4-fc9a-4680-8b5a-ba8905629427/published/f17abf10-91e9-45f0-8adc-abea8c43c182/dataset-4f92a025-9e69-4215-9298-349419156687.json',\n",
       "  'name': 'Heavily_damaged.geojson',\n",
       "  'type': 'managed'},\n",
       " {'id': 'a0334259-aaf4-4a73-8dc0-a6e64af2547b',\n",
       "  'url': 'https://cdn.published.unfolded.ai/maps/300f66f4-fc9a-4680-8b5a-ba8905629427/published/f17abf10-91e9-45f0-8adc-abea8c43c182/dataset-a0334259-aaf4-4a73-8dc0-a6e64af2547b.json',\n",
       "  'name': 'Slightly.geojson',\n",
       "  'type': 'managed'},\n",
       " {'id': 'ea49e697-e702-426f-8a8c-6d4feb25d32f',\n",
       "  'url': 'https://cdn.published.unfolded.ai/maps/300f66f4-fc9a-4680-8b5a-ba8905629427/published/f17abf10-91e9-45f0-8adc-abea8c43c182/dataset-ea49e697-e702-426f-8a8c-6d4feb25d32f.json',\n",
       "  'name': 'Collapsed.geojson',\n",
       "  'type': 'managed'}]"
      ]
     },
     "execution_count": 10,
     "metadata": {},
     "output_type": "execute_result"
    }
   ],
   "source": [
    "datasets = published_map['item']['datasets']\n",
    "datasets"
   ]
  },
  {
   "cell_type": "code",
   "execution_count": 12,
   "metadata": {},
   "outputs": [],
   "source": [
    "for dataset in datasets:\n",
    "    response = requests.get(dataset['url'])\n",
    "    if response.status_code == 200:\n",
    "        with open(os.path.join('datasets', dataset['name']), 'w') as f:\n",
    "            f.write(response.text)\n",
    "    else:\n",
    "        print(f'Failed to download the file. Status code: {response.status_code}')"
   ]
  },
  {
   "attachments": {},
   "cell_type": "markdown",
   "metadata": {},
   "source": [
    "# Process each dataset and save lat, lng and dmg type for each row"
   ]
  },
  {
   "cell_type": "code",
   "execution_count": 77,
   "metadata": {},
   "outputs": [],
   "source": [
    "# main df to concat outputs\n",
    "df = pd.DataFrame()"
   ]
  },
  {
   "cell_type": "code",
   "execution_count": 78,
   "metadata": {},
   "outputs": [
    {
     "name": "stderr",
     "output_type": "stream",
     "text": [
      "Process dataset: 100%|██████████| 4/4 [00:02<00:00,  1.62it/s]"
     ]
    },
    {
     "name": "stdout",
     "output_type": "stream",
     "text": [
      "Slightly: 140200 rows\n",
      "Collapsed: 10237 rows\n",
      "Needs _demolished: 5714 rows\n",
      "Heavily_damaged: 42482 rows\n"
     ]
    },
    {
     "name": "stderr",
     "output_type": "stream",
     "text": [
      "\n"
     ]
    }
   ],
   "source": [
    "len_dict = {}\n",
    "ds_names = os.listdir('datasets')\n",
    "for i in trange(len(ds_names), desc='Process dataset'):\n",
    "    \n",
    "    ds_name = ds_names[i]\n",
    "    ds_type = ds_name.split('.')[0]\n",
    "    ds_path = os.path.join('datasets', ds_name)\n",
    "    \n",
    "    with open(ds_path, 'r') as f:\n",
    "        ds = f.read()\n",
    "    ds = json.loads(ds)\n",
    "    \n",
    "    sub_df = pd.DataFrame([ds_type]*len(ds['data']['allData']), columns=['dmg_state'])\n",
    "    sub_df['coordinate'] = sub_df.apply(lambda row: ds['data']['allData'][row.name][0]['geometry']['coordinates'], axis=1)\n",
    "    sub_df['lat'] = sub_df['coordinate'].apply(lambda x: x[0])\n",
    "    sub_df['lng'] = sub_df['coordinate'].apply(lambda x: x[1])\n",
    "    sub_df = sub_df.drop(columns=['coordinate'])\n",
    "    \n",
    "    len_dict[ds_type] = len(sub_df)\n",
    "    \n",
    "    if df.empty:\n",
    "        df = sub_df\n",
    "    else:\n",
    "        df = pd.concat([df, sub_df], axis=0)\n",
    "\n",
    "for ds_type, len_ds in len_dict.items():\n",
    "    print(f'{ds_type}: {len_ds} rows')"
   ]
  },
  {
   "attachments": {},
   "cell_type": "markdown",
   "metadata": {},
   "source": [
    "![Screenshot](Screenshot_dmg_state_len.png)"
   ]
  },
  {
   "cell_type": "code",
   "execution_count": 79,
   "metadata": {},
   "outputs": [
    {
     "data": {
      "text/html": [
       "<div>\n",
       "<style scoped>\n",
       "    .dataframe tbody tr th:only-of-type {\n",
       "        vertical-align: middle;\n",
       "    }\n",
       "\n",
       "    .dataframe tbody tr th {\n",
       "        vertical-align: top;\n",
       "    }\n",
       "\n",
       "    .dataframe thead th {\n",
       "        text-align: right;\n",
       "    }\n",
       "</style>\n",
       "<table border=\"1\" class=\"dataframe\">\n",
       "  <thead>\n",
       "    <tr style=\"text-align: right;\">\n",
       "      <th></th>\n",
       "      <th>dmg_state</th>\n",
       "      <th>lat</th>\n",
       "      <th>lng</th>\n",
       "    </tr>\n",
       "  </thead>\n",
       "  <tbody>\n",
       "    <tr>\n",
       "      <th>0</th>\n",
       "      <td>Slightly</td>\n",
       "      <td>36.230874</td>\n",
       "      <td>37.076459</td>\n",
       "    </tr>\n",
       "    <tr>\n",
       "      <th>1</th>\n",
       "      <td>Slightly</td>\n",
       "      <td>38.825763</td>\n",
       "      <td>37.160653</td>\n",
       "    </tr>\n",
       "    <tr>\n",
       "      <th>2</th>\n",
       "      <td>Slightly</td>\n",
       "      <td>36.869738</td>\n",
       "      <td>37.581015</td>\n",
       "    </tr>\n",
       "    <tr>\n",
       "      <th>3</th>\n",
       "      <td>Slightly</td>\n",
       "      <td>37.409086</td>\n",
       "      <td>37.048067</td>\n",
       "    </tr>\n",
       "    <tr>\n",
       "      <th>4</th>\n",
       "      <td>Slightly</td>\n",
       "      <td>38.312896</td>\n",
       "      <td>37.767825</td>\n",
       "    </tr>\n",
       "    <tr>\n",
       "      <th>...</th>\n",
       "      <td>...</td>\n",
       "      <td>...</td>\n",
       "      <td>...</td>\n",
       "    </tr>\n",
       "    <tr>\n",
       "      <th>42477</th>\n",
       "      <td>Heavily_damaged</td>\n",
       "      <td>38.791988</td>\n",
       "      <td>37.211223</td>\n",
       "    </tr>\n",
       "    <tr>\n",
       "      <th>42478</th>\n",
       "      <td>Heavily_damaged</td>\n",
       "      <td>36.221066</td>\n",
       "      <td>37.064872</td>\n",
       "    </tr>\n",
       "    <tr>\n",
       "      <th>42479</th>\n",
       "      <td>Heavily_damaged</td>\n",
       "      <td>38.485977</td>\n",
       "      <td>37.581812</td>\n",
       "    </tr>\n",
       "    <tr>\n",
       "      <th>42480</th>\n",
       "      <td>Heavily_damaged</td>\n",
       "      <td>38.254576</td>\n",
       "      <td>37.756840</td>\n",
       "    </tr>\n",
       "    <tr>\n",
       "      <th>42481</th>\n",
       "      <td>Heavily_damaged</td>\n",
       "      <td>38.269704</td>\n",
       "      <td>37.763027</td>\n",
       "    </tr>\n",
       "  </tbody>\n",
       "</table>\n",
       "<p>198633 rows × 3 columns</p>\n",
       "</div>"
      ],
      "text/plain": [
       "             dmg_state        lat        lng\n",
       "0             Slightly  36.230874  37.076459\n",
       "1             Slightly  38.825763  37.160653\n",
       "2             Slightly  36.869738  37.581015\n",
       "3             Slightly  37.409086  37.048067\n",
       "4             Slightly  38.312896  37.767825\n",
       "...                ...        ...        ...\n",
       "42477  Heavily_damaged  38.791988  37.211223\n",
       "42478  Heavily_damaged  36.221066  37.064872\n",
       "42479  Heavily_damaged  38.485977  37.581812\n",
       "42480  Heavily_damaged  38.254576  37.756840\n",
       "42481  Heavily_damaged  38.269704  37.763027\n",
       "\n",
       "[198633 rows x 3 columns]"
      ]
     },
     "execution_count": 79,
     "metadata": {},
     "output_type": "execute_result"
    }
   ],
   "source": [
    "df"
   ]
  },
  {
   "attachments": {},
   "cell_type": "markdown",
   "metadata": {},
   "source": [
    "# Save df"
   ]
  },
  {
   "cell_type": "code",
   "execution_count": 69,
   "metadata": {},
   "outputs": [],
   "source": [
    "df.to_parquet('Building_dmg_w_geo.parquet', index=False)"
   ]
  }
 ],
 "metadata": {
  "kernelspec": {
   "display_name": "py38",
   "language": "python",
   "name": "python3"
  },
  "language_info": {
   "codemirror_mode": {
    "name": "ipython",
    "version": 3
   },
   "file_extension": ".py",
   "mimetype": "text/x-python",
   "name": "python",
   "nbconvert_exporter": "python",
   "pygments_lexer": "ipython3",
   "version": "3.8.0"
  },
  "orig_nbformat": 4,
  "vscode": {
   "interpreter": {
    "hash": "ac39f8487fc97aeafed66221d4705c27210c1fa2b9d80e5f6346a60077226f88"
   }
  }
 },
 "nbformat": 4,
 "nbformat_minor": 2
}
